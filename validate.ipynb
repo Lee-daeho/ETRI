{
 "cells": [
  {
   "cell_type": "code",
   "execution_count": 1,
   "metadata": {},
   "outputs": [
    {
     "name": "stderr",
     "output_type": "stream",
     "text": [
      "The tokenizer class you load from this checkpoint is not the same type as the class this function is called from. It may result in unexpected tokenization. \n",
      "The tokenizer class you load from this checkpoint is 'BertTokenizer'. \n",
      "The class this function is called from is 'KoBertTokenizer'.\n"
     ]
    }
   ],
   "source": [
    "import torch\n",
    "import os\n",
    "from torchnet import meter\n",
    "from collections import Counter\n",
    "\n",
    "from torch.utils.data import DataLoader\n",
    "from torch import optim\n",
    "import torch.nn as nn\n",
    "from transformers import T5Tokenizer, EncoderDecoderModel\n",
    "from torch.utils.data.sampler import SubsetRandomSampler\n",
    "\n",
    "from src.dataset import KEMDyDataset\n",
    "from src.selection_methods import query_samples\n",
    "from src.util import out_put\n",
    "from sklearn.metrics import f1_score, recall_score, precision_score, accuracy_score\n",
    "\n",
    "import numpy as np\n",
    "import matplotlib.pyplot as plt\n",
    "from sklearn.manifold import TSNE\n",
    "\n",
    "from src.kobert_tokenizer import KoBertTokenizer\n",
    "\n",
    "from module.KoBertEmotionRecognition import KoBERTEmotionRecognition\n",
    "from module.Wav2VecEmotionRecognition import Wav2VecEmotionRecognition\n",
    "from module.LateFusion import LatefusionModule\n",
    "\n",
    "from transformers import AutoConfig\n",
    "\n",
    "\n",
    "import wandb\n",
    "\n",
    "\n",
    "tokenizer = KoBertTokenizer.from_pretrained('monologg/kobert')\n",
    "\n"
   ]
  },
  {
   "cell_type": "code",
   "execution_count": 2,
   "metadata": {},
   "outputs": [],
   "source": [
    "import seaborn as sns\n",
    "from sklearn.metrics import confusion_matrix\n",
    "\n",
    "@torch.no_grad()\n",
    "def val(k, modal, method):\n",
    "    \n",
    "    l_type='emotion'\n",
    "    use_gpu = True\n",
    "    if use_gpu:\n",
    "        device = torch.device('cuda')\n",
    "    else:\n",
    "        device = torch.device('cpu')\n",
    "\n",
    "    file_name=f'./results/{modal}/{modal}_{method}real_{l_type}_k{k}_2/{modal}_{l_type}_k{k}_2'\n",
    "\n",
    "    val_data = KEMDyDataset(modal=modal, k=k, kind='val', l_type=l_type)\n",
    "\n",
    "    if modal == 'text':\n",
    "        model = KoBERTEmotionRecognition().to(device)\n",
    "        model.load_state_dict(torch.load(file_name+'_encbest.pth'))\n",
    "\n",
    "    if modal == 'wav':\n",
    "        model_name_or_path = \"kresnik/wav2vec2-large-xlsr-korean\"\n",
    "        config = AutoConfig.from_pretrained(model_name_or_path,\n",
    "                                            num_labels=7,\n",
    "                                            label2id = {'neutral': 0, 'happy': 1, 'surprise': 2, 'angry': 3, 'sad': 4, 'disqust': 5, 'fear': 6},\n",
    "                                            id2label = {0: 'neutral', 1: 'happy', 2: 'surprise', 3: 'angry', 4: 'sad', 5: 'disqust', 6: 'fear'}\n",
    "                                            )\n",
    "        \n",
    "        model = Wav2VecEmotionRecognition.from_pretrained(model_name_or_path, config=config).to(device)\n",
    "        model.load_state_dict(torch.load(file_name + '_encbest.pth'))\n",
    "\n",
    "\n",
    "    if modal == 'both':\n",
    "\n",
    "        model_name_or_path = \"kresnik/wav2vec2-large-xlsr-korean\"\n",
    "        config = AutoConfig.from_pretrained(model_name_or_path,\n",
    "                                            num_labels=7,\n",
    "                                            label2id = {'neutral': 0, 'happy': 1, 'surprise': 2, 'angry': 3, 'sad': 4, 'disqust': 5, 'fear': 6},\n",
    "                                            id2label = {0: 'neutral', 1: 'happy', 2: 'surprise', 3: 'angry', 4: 'sad', 5: 'disqust', 6: 'fear'}\n",
    "                                            )\n",
    "\n",
    "        model = LatefusionModule(model_name_or_path, config).to(device)\n",
    "        model.load_state_dict(torch.load(file_name + '_encbest.pth'))\n",
    "\n",
    "\n",
    "    val_loader = DataLoader(val_data, batch_size=16, shuffle=False)\n",
    "\n",
    "    model.eval()\n",
    "\n",
    "    pred_label = []\n",
    "    true_label = []\n",
    "\n",
    "    for ii, (inputs, target) in enumerate(val_loader):\n",
    "        data, mask = inputs[0].to(device), inputs[1].to(device)\n",
    "        target = target.to(device)\n",
    "        \n",
    "        if modal == 'both':\n",
    "            w_data, w_mask = inputs[2].to(device), inputs[3].to(device)\n",
    "\n",
    "        if modal == 'text' or modal == 'wav':\n",
    "            output, encode_out = model(data, mask, output_attentions=True, output_hidden_states=True)\n",
    "        \n",
    "        if modal == 'both':\n",
    "            output, _, _, encode_out = model(data, mask, w_data, w_mask)\n",
    "\n",
    "        _, pred = output.data.topk(1, dim=1)\n",
    "        pred = pred.t().squeeze()\n",
    "\n",
    "        pred_label.append(pred.detach().cpu())\n",
    "        true_label.append(target.detach().cpu())\n",
    "\n",
    "    pred_label = torch.cat(pred_label, 0)\n",
    "    true_label = torch.cat(true_label, 0)\n",
    "\n",
    "    return pred_label, true_label"
   ]
  },
  {
   "cell_type": "code",
   "execution_count": 6,
   "metadata": {},
   "outputs": [
    {
     "name": "stderr",
     "output_type": "stream",
     "text": [
      "The tokenizer class you load from this checkpoint is not the same type as the class this function is called from. It may result in unexpected tokenization. \n",
      "The tokenizer class you load from this checkpoint is 'BertTokenizer'. \n",
      "The class this function is called from is 'KoBertTokenizer'.\n"
     ]
    },
    {
     "name": "stdout",
     "output_type": "stream",
     "text": [
      "torch.Size([2619, 512]) torch.Size([2619, 512]) torch.Size([2619])\n"
     ]
    },
    {
     "name": "stderr",
     "output_type": "stream",
     "text": [
      "The tokenizer class you load from this checkpoint is not the same type as the class this function is called from. It may result in unexpected tokenization. \n",
      "The tokenizer class you load from this checkpoint is 'BertTokenizer'. \n",
      "The class this function is called from is 'KoBertTokenizer'.\n"
     ]
    },
    {
     "name": "stdout",
     "output_type": "stream",
     "text": [
      "torch.Size([2935, 512]) torch.Size([2935, 512]) torch.Size([2935])\n"
     ]
    },
    {
     "name": "stderr",
     "output_type": "stream",
     "text": [
      "The tokenizer class you load from this checkpoint is not the same type as the class this function is called from. It may result in unexpected tokenization. \n",
      "The tokenizer class you load from this checkpoint is 'BertTokenizer'. \n",
      "The class this function is called from is 'KoBertTokenizer'.\n"
     ]
    },
    {
     "name": "stdout",
     "output_type": "stream",
     "text": [
      "torch.Size([2288, 512]) torch.Size([2288, 512]) torch.Size([2288])\n"
     ]
    },
    {
     "name": "stderr",
     "output_type": "stream",
     "text": [
      "The tokenizer class you load from this checkpoint is not the same type as the class this function is called from. It may result in unexpected tokenization. \n",
      "The tokenizer class you load from this checkpoint is 'BertTokenizer'. \n",
      "The class this function is called from is 'KoBertTokenizer'.\n"
     ]
    },
    {
     "name": "stdout",
     "output_type": "stream",
     "text": [
      "torch.Size([2716, 512]) torch.Size([2716, 512]) torch.Size([2716])\n"
     ]
    },
    {
     "name": "stderr",
     "output_type": "stream",
     "text": [
      "The tokenizer class you load from this checkpoint is not the same type as the class this function is called from. It may result in unexpected tokenization. \n",
      "The tokenizer class you load from this checkpoint is 'BertTokenizer'. \n",
      "The class this function is called from is 'KoBertTokenizer'.\n"
     ]
    },
    {
     "name": "stdout",
     "output_type": "stream",
     "text": [
      "torch.Size([2904, 512]) torch.Size([2904, 512]) torch.Size([2904])\n",
      "[[10542   427    42    29    44     6    30]\n",
      " [  685   825     8     3     3     1     3]\n",
      " [  156    28    33     1     1     1     1]\n",
      " [  188    15     1    20     3     1     0]\n",
      " [  139     6     1     0    46     0     1]\n",
      " [   90     9     1     3     1     3     1]\n",
      " [   46     1     3     0     0     0    14]]\n"
     ]
    },
    {
     "data": {
      "image/png": "[encoded data removed]",
      "text/plain": [
       "<Figure size 432x288 with 2 Axes>"
      ]
     },
     "metadata": {
      "needs_background": "light"
     },
     "output_type": "display_data"
    },
    {
     "name": "stdout",
     "output_type": "stream",
     "text": [
      "val f1 : 0.8362878315451888, val micro f1 : 0.8529936116476008, val macro f1 : 0.35210812396966046, val accuracy : 0.8529936116476007, val precision : 0.8287296019745068 val recall : 0.8529936116476007\n"
     ]
    }
   ],
   "source": [
    "pred_labels = []\n",
    "true_labels = []\n",
    "\n",
    "modal = 'text'\n",
    "method = 'Coreset'\n",
    "for i in range(1,6):\n",
    "    pred_label, true_label = val(i, modal=modal, method=method)\n",
    "    pred_labels.append(pred_label)\n",
    "    true_labels.append(true_label)\n",
    "\n",
    "pred_labels = torch.cat(pred_labels, 0)\n",
    "true_labels = torch.cat(true_labels, 0)\n",
    "\n",
    "val_f1 = f1_score(true_labels, pred_labels, average='weighted')\n",
    "val_macro_f1 = f1_score(true_labels, pred_labels, average='macro')\n",
    "val_micro_f1 = f1_score(true_labels, pred_labels, average='micro')\n",
    "val_accuracy = accuracy_score(true_labels, pred_labels)\n",
    "val_precision = precision_score(true_labels, pred_labels, average='weighted')\n",
    "val_recall = recall_score(true_labels, pred_labels, average='weighted')\n",
    "\n",
    "\n",
    "cf_matrix = confusion_matrix(true_labels, pred_labels)\n",
    "print(cf_matrix)\n",
    "sns.heatmap((cf_matrix.T / np.sum(a.T, axis=0)).T, annot=True,\n",
    "        fmt=\".2f%\", cmap='Blues')\n",
    "\n",
    "plt.xticks([0.5, 1.5, 2.5, 3.5, 4.5, 5.5, 6.5], ['neutral', 'happy', 'surprise', 'angry', 'sad', 'disgust', 'fear'])\n",
    "plt.yticks([0.5, 1.5, 2.5, 3.5, 4.5, 5.5, 6.5], ['neutral', 'happy', 'surprise', 'angry', 'sad', 'disgust', 'fear'])\n",
    "\n",
    "plt.xlabel('Prediction')\n",
    "plt.ylabel('Ground Truth')\n",
    "\n",
    "# plt.savefig('./figure/confusion_matrix.png')\n",
    "plt.show()\n",
    "print('val f1 : {}, val micro f1 : {}, val macro f1 : {}, val accuracy : {}, val precision : {} val recall : {}'.format(val_f1, val_micro_f1, val_macro_f1, val_accuracy, val_precision, val_recall))"
   ]
  },
  {
   "cell_type": "code",
   "execution_count": 7,
   "metadata": {},
   "outputs": [
    {
     "name": "stderr",
     "output_type": "stream",
     "text": [
      "The tokenizer class you load from this checkpoint is not the same type as the class this function is called from. It may result in unexpected tokenization. \n",
      "The tokenizer class you load from this checkpoint is 'BertTokenizer'. \n",
      "The class this function is called from is 'KoBertTokenizer'.\n"
     ]
    },
    {
     "name": "stdout",
     "output_type": "stream",
     "text": [
      "torch.Size([2619, 512]) torch.Size([2619, 512]) torch.Size([2619])\n"
     ]
    },
    {
     "name": "stderr",
     "output_type": "stream",
     "text": [
      "The tokenizer class you load from this checkpoint is not the same type as the class this function is called from. It may result in unexpected tokenization. \n",
      "The tokenizer class you load from this checkpoint is 'BertTokenizer'. \n",
      "The class this function is called from is 'KoBertTokenizer'.\n"
     ]
    },
    {
     "name": "stdout",
     "output_type": "stream",
     "text": [
      "torch.Size([2935, 512]) torch.Size([2935, 512]) torch.Size([2935])\n"
     ]
    },
    {
     "name": "stderr",
     "output_type": "stream",
     "text": [
      "The tokenizer class you load from this checkpoint is not the same type as the class this function is called from. It may result in unexpected tokenization. \n",
      "The tokenizer class you load from this checkpoint is 'BertTokenizer'. \n",
      "The class this function is called from is 'KoBertTokenizer'.\n"
     ]
    },
    {
     "name": "stdout",
     "output_type": "stream",
     "text": [
      "torch.Size([2288, 512]) torch.Size([2288, 512]) torch.Size([2288])\n"
     ]
    },
    {
     "name": "stderr",
     "output_type": "stream",
     "text": [
      "The tokenizer class you load from this checkpoint is not the same type as the class this function is called from. It may result in unexpected tokenization. \n",
      "The tokenizer class you load from this checkpoint is 'BertTokenizer'. \n",
      "The class this function is called from is 'KoBertTokenizer'.\n"
     ]
    },
    {
     "name": "stdout",
     "output_type": "stream",
     "text": [
      "torch.Size([2716, 512]) torch.Size([2716, 512]) torch.Size([2716])\n"
     ]
    },
    {
     "name": "stderr",
     "output_type": "stream",
     "text": [
      "The tokenizer class you load from this checkpoint is not the same type as the class this function is called from. It may result in unexpected tokenization. \n",
      "The tokenizer class you load from this checkpoint is 'BertTokenizer'. \n",
      "The class this function is called from is 'KoBertTokenizer'.\n"
     ]
    },
    {
     "name": "stdout",
     "output_type": "stream",
     "text": [
      "torch.Size([2904, 512]) torch.Size([2904, 512]) torch.Size([2904])\n",
      "[[10482   467    50    46    43    24     8]\n",
      " [  664   828    12    14     4     4     2]\n",
      " [  168    32    18     0     1     1     1]\n",
      " [  195    17     1     8     1     6     0]\n",
      " [  150    10     1     6    25     1     0]\n",
      " [   89    13     1     2     0     2     1]\n",
      " [   40     5     1     3     2     0    13]]\n"
     ]
    },
    {
     "data": {
      "image/png": "[encoded data removed]",
      "text/plain": [
       "<Figure size 432x288 with 2 Axes>"
      ]
     },
     "metadata": {
      "needs_background": "light"
     },
     "output_type": "display_data"
    },
    {
     "name": "stdout",
     "output_type": "stream",
     "text": [
      "val f1 : 0.8278399529338436, val micro f1 : 0.845045312732135, val macro f1 : 0.3088184353291741, val accuracy : 0.8450453127321349, val precision : 0.8158557955395586 val recall : 0.8450453127321349\n"
     ]
    }
   ],
   "source": [
    "pred_labels = []\n",
    "true_labels = []\n",
    "\n",
    "modal = 'text'\n",
    "method = 'Random'\n",
    "for i in range(1,6):\n",
    "    pred_label, true_label = val(i, modal=modal, method=method)\n",
    "    pred_labels.append(pred_label)\n",
    "    true_labels.append(true_label)\n",
    "\n",
    "pred_labels = torch.cat(pred_labels, 0)\n",
    "true_labels = torch.cat(true_labels, 0)\n",
    "\n",
    "val_f1 = f1_score(true_labels, pred_labels, average='weighted')\n",
    "val_macro_f1 = f1_score(true_labels, pred_labels, average='macro')\n",
    "val_micro_f1 = f1_score(true_labels, pred_labels, average='micro')\n",
    "val_accuracy = accuracy_score(true_labels, pred_labels)\n",
    "val_precision = precision_score(true_labels, pred_labels, average='weighted')\n",
    "val_recall = recall_score(true_labels, pred_labels, average='weighted')\n",
    "\n",
    "\n",
    "cf_matrix = confusion_matrix(true_labels, pred_labels)\n",
    "print(cf_matrix)\n",
    "sns.heatmap(cf_matrix, annot=True,\n",
    "        cmap='Blues')\n",
    "\n",
    "plt.xticks([0.5, 1.5, 2.5, 3.5, 4.5, 5.5, 6.5], ['neutral', 'happy', 'surprise', 'angry', 'sad', 'disgust', 'fear'])\n",
    "plt.yticks([0.5, 1.5, 2.5, 3.5, 4.5, 5.5, 6.5], ['neutral', 'happy', 'surprise', 'angry', 'sad', 'disgust', 'fear'])\n",
    "\n",
    "plt.xlabel('Prediction')\n",
    "plt.ylabel('Ground Truth')\n",
    "\n",
    "# plt.savefig('./figure/confusion_matrix.png')\n",
    "plt.show()\n",
    "print('val f1 : {}, val micro f1 : {}, val macro f1 : {}, val accuracy : {}, val precision : {} val recall : {}'.format(val_f1, val_micro_f1, val_macro_f1, val_accuracy, val_precision, val_recall))"
   ]
  },
  {
   "cell_type": "code",
   "execution_count": 8,
   "metadata": {},
   "outputs": [
    {
     "name": "stderr",
     "output_type": "stream",
     "text": [
      "The tokenizer class you load from this checkpoint is not the same type as the class this function is called from. It may result in unexpected tokenization. \n",
      "The tokenizer class you load from this checkpoint is 'BertTokenizer'. \n",
      "The class this function is called from is 'KoBertTokenizer'.\n"
     ]
    },
    {
     "name": "stdout",
     "output_type": "stream",
     "text": [
      "torch.Size([2619, 512]) torch.Size([2619, 512]) torch.Size([2619])\n"
     ]
    },
    {
     "name": "stderr",
     "output_type": "stream",
     "text": [
      "The tokenizer class you load from this checkpoint is not the same type as the class this function is called from. It may result in unexpected tokenization. \n",
      "The tokenizer class you load from this checkpoint is 'BertTokenizer'. \n",
      "The class this function is called from is 'KoBertTokenizer'.\n"
     ]
    },
    {
     "name": "stdout",
     "output_type": "stream",
     "text": [
      "torch.Size([2935, 512]) torch.Size([2935, 512]) torch.Size([2935])\n"
     ]
    },
    {
     "name": "stderr",
     "output_type": "stream",
     "text": [
      "The tokenizer class you load from this checkpoint is not the same type as the class this function is called from. It may result in unexpected tokenization. \n",
      "The tokenizer class you load from this checkpoint is 'BertTokenizer'. \n",
      "The class this function is called from is 'KoBertTokenizer'.\n"
     ]
    },
    {
     "name": "stdout",
     "output_type": "stream",
     "text": [
      "torch.Size([2288, 512]) torch.Size([2288, 512]) torch.Size([2288])\n"
     ]
    },
    {
     "name": "stderr",
     "output_type": "stream",
     "text": [
      "The tokenizer class you load from this checkpoint is not the same type as the class this function is called from. It may result in unexpected tokenization. \n",
      "The tokenizer class you load from this checkpoint is 'BertTokenizer'. \n",
      "The class this function is called from is 'KoBertTokenizer'.\n"
     ]
    },
    {
     "name": "stdout",
     "output_type": "stream",
     "text": [
      "torch.Size([2716, 512]) torch.Size([2716, 512]) torch.Size([2716])\n"
     ]
    },
    {
     "name": "stderr",
     "output_type": "stream",
     "text": [
      "The tokenizer class you load from this checkpoint is not the same type as the class this function is called from. It may result in unexpected tokenization. \n",
      "The tokenizer class you load from this checkpoint is 'BertTokenizer'. \n",
      "The class this function is called from is 'KoBertTokenizer'.\n"
     ]
    },
    {
     "name": "stdout",
     "output_type": "stream",
     "text": [
      "torch.Size([2904, 512]) torch.Size([2904, 512]) torch.Size([2904])\n",
      "[[10542   427    42    29    44     6    30]\n",
      " [  685   825     8     3     3     1     3]\n",
      " [  156    28    33     1     1     1     1]\n",
      " [  188    15     1    20     3     1     0]\n",
      " [  139     6     1     0    46     0     1]\n",
      " [   90     9     1     3     1     3     1]\n",
      " [   46     1     3     0     0     0    14]]\n"
     ]
    },
    {
     "data": {
      "image/png": "[encoded data removed]",
      "text/plain": [
       "<Figure size 432x288 with 2 Axes>"
      ]
     },
     "metadata": {
      "needs_background": "light"
     },
     "output_type": "display_data"
    },
    {
     "name": "stdout",
     "output_type": "stream",
     "text": [
      "val f1 : 0.8362878315451888, val micro f1 : 0.8529936116476008, val macro f1 : 0.35210812396966046, val accuracy : 0.8529936116476007, val precision : 0.8287296019745068 val recall : 0.8529936116476007\n"
     ]
    }
   ],
   "source": [
    "pred_labels = []\n",
    "true_labels = []\n",
    "\n",
    "modal = 'text'\n",
    "method = 'Coreset'\n",
    "for i in range(1,6):\n",
    "    pred_label, true_label = val(i, modal=modal, method=method)\n",
    "    pred_labels.append(pred_label)\n",
    "    true_labels.append(true_label)\n",
    "\n",
    "pred_labels = torch.cat(pred_labels, 0)\n",
    "true_labels = torch.cat(true_labels, 0)\n",
    "\n",
    "val_f1 = f1_score(true_labels, pred_labels, average='weighted')\n",
    "val_macro_f1 = f1_score(true_labels, pred_labels, average='macro')\n",
    "val_micro_f1 = f1_score(true_labels, pred_labels, average='micro')\n",
    "val_accuracy = accuracy_score(true_labels, pred_labels)\n",
    "val_precision = precision_score(true_labels, pred_labels, average='weighted')\n",
    "val_recall = recall_score(true_labels, pred_labels, average='weighted')\n",
    "\n",
    "\n",
    "cf_matrix = confusion_matrix(true_labels, pred_labels)\n",
    "print(cf_matrix)\n",
    "sns.heatmap(cf_matrix, annot=True,\n",
    "        cmap='Blues')\n",
    "\n",
    "plt.xticks([0.5, 1.5, 2.5, 3.5, 4.5, 5.5, 6.5], ['neutral', 'happy', 'surprise', 'angry', 'sad', 'disgust', 'fear'])\n",
    "plt.yticks([0.5, 1.5, 2.5, 3.5, 4.5, 5.5, 6.5], ['neutral', 'happy', 'surprise', 'angry', 'sad', 'disgust', 'fear'])\n",
    "\n",
    "plt.xlabel('Prediction')\n",
    "plt.ylabel('Ground Truth')\n",
    "\n",
    "# plt.savefig('./figure/confusion_matrix.png')\n",
    "plt.show()\n",
    "print('val f1 : {}, val micro f1 : {}, val macro f1 : {}, val accuracy : {}, val precision : {} val recall : {}'.format(val_f1, val_micro_f1, val_macro_f1, val_accuracy, val_precision, val_recall))"
   ]
  },
  {
   "cell_type": "code",
   "execution_count": null,
   "metadata": {},
   "outputs": [],
   "source": []
  }
 ],
 "metadata": {
  "kernelspec": {
   "display_name": "base",
   "language": "python",
   "name": "python3"
  },
  "language_info": {
   "codemirror_mode": {
    "name": "ipython",
    "version": 3
   },
   "file_extension": ".py",
   "mimetype": "text/x-python",
   "name": "python",
   "nbconvert_exporter": "python",
   "pygments_lexer": "ipython3",
   "version": "3.8.3"
  },
  "orig_nbformat": 4,
  "vscode": {
   "interpreter": {
    "hash": "d4d1e4263499bec80672ea0156c357c1ee493ec2b1c70f0acce89fc37c4a6abe"
   }
  }
 },
 "nbformat": 4,
 "nbformat_minor": 2
}
